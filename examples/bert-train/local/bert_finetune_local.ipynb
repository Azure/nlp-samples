{
 "cells": [
  {
   "cell_type": "markdown",
   "source": [
    "# BERT Classifictaion Fine Tuning with PyTorch Lightning\n",
    "ローカル環境で BERT のファインチューニングを行います。"
   ],
   "metadata": {}
  },
  {
   "cell_type": "markdown",
   "source": [
    "## 0. 事前準備\n",
    "### Data\n",
    "ターミナルで以下のコマンドを実行し、Livedoor ニュースのコーパスデータの前処理を実施します。\n",
    "```bash\n",
    "python utils/livedoor-dataprep.py\n",
    "````"
   ],
   "metadata": {}
  },
  {
   "cell_type": "markdown",
   "source": [
    "### Python 環境の準備\n",
    "ターミナルで以下のコマンドを実行し conda 環境を構築してください。\n",
    "\n",
    "```bash\n",
    "$ conda env create --file bert_finetune_local.yml \n",
    "```"
   ],
   "metadata": {}
  },
  {
   "cell_type": "markdown",
   "source": [
    "## 1. ライブラリのインポート"
   ],
   "metadata": {}
  },
  {
   "cell_type": "code",
   "execution_count": 1,
   "source": [
    "import numpy as np\n",
    "import pandas as pd\n",
    "import pytorch_lightning as pl\n",
    "import torch\n",
    "from scipy.special import logit\n",
    "from sklearn.model_selection import train_test_split\n",
    "from torch.utils.data import DataLoader\n",
    "\n",
    "from src import datasets, models\n",
    "\n",
    "pl.seed_everything(1234)\n",
    "torch.manual_seed(1234)\n",
    "np.random.seed(1234)"
   ],
   "outputs": [
    {
     "output_type": "stream",
     "name": "stderr",
     "text": [
      "Global seed set to 1234\n"
     ]
    }
   ],
   "metadata": {
    "gather": {
     "logged": 1619766078354
    }
   }
  },
  {
   "cell_type": "code",
   "execution_count": 2,
   "source": [
    "# GPU が利用可能か確認\n",
    "device = torch.device(\"cuda:0\" if torch.cuda.is_available() else \"cpu\")"
   ],
   "outputs": [],
   "metadata": {
    "gather": {
     "logged": 1619766078417
    }
   }
  },
  {
   "cell_type": "markdown",
   "source": [
    "## 2. データ前処理"
   ],
   "metadata": {}
  },
  {
   "cell_type": "code",
   "execution_count": 3,
   "source": [
    "df = pd.read_csv(\"./data/processed/livedoor.tsv\", delimiter='\\t')\n",
    "df = df.dropna()\n",
    "df.head()"
   ],
   "outputs": [
    {
     "output_type": "execute_result",
     "data": {
      "text/html": [
       "<div>\n",
       "<style scoped>\n",
       "    .dataframe tbody tr th:only-of-type {\n",
       "        vertical-align: middle;\n",
       "    }\n",
       "\n",
       "    .dataframe tbody tr th {\n",
       "        vertical-align: top;\n",
       "    }\n",
       "\n",
       "    .dataframe thead th {\n",
       "        text-align: right;\n",
       "    }\n",
       "</style>\n",
       "<table border=\"1\" class=\"dataframe\">\n",
       "  <thead>\n",
       "    <tr style=\"text-align: right;\">\n",
       "      <th></th>\n",
       "      <th>text</th>\n",
       "      <th>label_index</th>\n",
       "      <th>label</th>\n",
       "    </tr>\n",
       "  </thead>\n",
       "  <tbody>\n",
       "    <tr>\n",
       "      <th>0</th>\n",
       "      <td>ソーシャルレビューコミュニティ「zigsow（ジグソー）」が運営する企業向け＆ビジネス向け商...</td>\n",
       "      <td>1</td>\n",
       "      <td>it-life-hack</td>\n",
       "    </tr>\n",
       "    <tr>\n",
       "      <th>1</th>\n",
       "      <td>ブログなどよりも気軽に発信できるため、有名人も多くが利用しているTwitter。だが、その気...</td>\n",
       "      <td>2</td>\n",
       "      <td>kaden-channel</td>\n",
       "    </tr>\n",
       "    <tr>\n",
       "      <th>2</th>\n",
       "      <td>「秋葉原通り魔事件」の映画化がネットで反響を呼んでいる。だが、その内容はあまりにも衝撃的だっ...</td>\n",
       "      <td>8</td>\n",
       "      <td>topic-news</td>\n",
       "    </tr>\n",
       "    <tr>\n",
       "      <th>3</th>\n",
       "      <td>全国に21000人の部員を誇る「iPhone女子部」が、女子のハートをがっちりつかむiPho...</td>\n",
       "      <td>5</td>\n",
       "      <td>peachy</td>\n",
       "    </tr>\n",
       "    <tr>\n",
       "      <th>4</th>\n",
       "      <td>2006年に、同業の小沢コージ君（みんカラスペシャルブログメンバー）と『力説自動車』という単...</td>\n",
       "      <td>3</td>\n",
       "      <td>livedoor-homme</td>\n",
       "    </tr>\n",
       "  </tbody>\n",
       "</table>\n",
       "</div>"
      ],
      "text/plain": [
       "                                                text  label_index  \\\n",
       "0  ソーシャルレビューコミュニティ「zigsow（ジグソー）」が運営する企業向け＆ビジネス向け商...            1   \n",
       "1  ブログなどよりも気軽に発信できるため、有名人も多くが利用しているTwitter。だが、その気...            2   \n",
       "2  「秋葉原通り魔事件」の映画化がネットで反響を呼んでいる。だが、その内容はあまりにも衝撃的だっ...            8   \n",
       "3  全国に21000人の部員を誇る「iPhone女子部」が、女子のハートをがっちりつかむiPho...            5   \n",
       "4  2006年に、同業の小沢コージ君（みんカラスペシャルブログメンバー）と『力説自動車』という単...            3   \n",
       "\n",
       "            label  \n",
       "0    it-life-hack  \n",
       "1   kaden-channel  \n",
       "2      topic-news  \n",
       "3          peachy  \n",
       "4  livedoor-homme  "
      ]
     },
     "metadata": {},
     "execution_count": 3
    }
   ],
   "metadata": {
    "gather": {
     "logged": 1619766078727
    }
   }
  },
  {
   "cell_type": "code",
   "execution_count": 4,
   "source": [
    "X_train, X_test = train_test_split(df, test_size=0.2, stratify=df['label_index'])\n",
    "X_train.reset_index(drop=True, inplace=True)\n",
    "X_test.reset_index(drop=True, inplace=True)"
   ],
   "outputs": [],
   "metadata": {
    "gather": {
     "logged": 1619766078843
    }
   }
  },
  {
   "cell_type": "code",
   "execution_count": 5,
   "source": [
    "X_train.to_csv(\"./data/processed/livedoor-train.tsv\", sep='\\t', index=False)\n",
    "X_test.to_csv(\"./data/processed/livedoor-test.tsv\", sep='\\t', index=False)"
   ],
   "outputs": [],
   "metadata": {}
  },
  {
   "cell_type": "code",
   "execution_count": 6,
   "source": [
    "train_dataset = datasets.LivedoorDataset(X_train)\n",
    "train_loader = DataLoader(train_dataset, batch_size=16, shuffle=True)"
   ],
   "outputs": [],
   "metadata": {
    "gather": {
     "logged": 1619766081789
    }
   }
  },
  {
   "cell_type": "code",
   "execution_count": 7,
   "source": [
    "test_dataset = datasets.LivedoorDataset(X_train)\n",
    "test_loader = DataLoader(test_dataset, batch_size=16, shuffle=True)"
   ],
   "outputs": [],
   "metadata": {}
  },
  {
   "cell_type": "markdown",
   "source": [
    "## 3. モデル学習"
   ],
   "metadata": {}
  },
  {
   "cell_type": "code",
   "execution_count": 8,
   "source": [
    "model = models.LitBert()\n",
    "\n",
    "# fix param\n",
    "for param in model.bert.bert.parameters():\n",
    "    param.requires_grad = False\n",
    "\n",
    "for param in model.bert.bert.encoder.layer[-1].parameters():\n",
    "    param.requires_grad = True\n",
    "\n",
    "model.to(device)\n",
    "trainer = pl.Trainer(gpus=1, default_root_dir='pl-model', max_epochs=5)"
   ],
   "outputs": [
    {
     "output_type": "stream",
     "name": "stderr",
     "text": [
      "Some weights of the model checkpoint at cl-tohoku/bert-base-japanese-whole-word-masking were not used when initializing BertModel: ['cls.predictions.transform.dense.bias', 'cls.predictions.transform.LayerNorm.weight', 'cls.predictions.bias', 'cls.predictions.transform.dense.weight', 'cls.seq_relationship.weight', 'cls.seq_relationship.bias', 'cls.predictions.decoder.weight', 'cls.predictions.transform.LayerNorm.bias']\n",
      "- This IS expected if you are initializing BertModel from the checkpoint of a model trained on another task or with another architecture (e.g. initializing a BertForSequenceClassification model from a BertForPreTraining model).\n",
      "- This IS NOT expected if you are initializing BertModel from the checkpoint of a model that you expect to be exactly identical (initializing a BertForSequenceClassification model from a BertForSequenceClassification model).\n",
      "GPU available: True, used: True\n",
      "TPU available: False, using: 0 TPU cores\n",
      "IPU available: False, using: 0 IPUs\n"
     ]
    }
   ],
   "metadata": {
    "gather": {
     "logged": 1619768011572
    }
   }
  },
  {
   "cell_type": "code",
   "execution_count": 9,
   "source": [
    "# モデル学習開始\n",
    "trainer.fit(model, train_dataloader=train_loader, val_dataloaders=test_loader)"
   ],
   "outputs": [
    {
     "output_type": "stream",
     "name": "stderr",
     "text": [
      "/anaconda/envs/bert_finetune_local/lib/python3.6/site-packages/pytorch_lightning/trainer/trainer.py:531: LightningDeprecationWarning: `trainer.fit(train_dataloader)` is deprecated in v1.4 and will be removed in v1.6. Use `trainer.fit(train_dataloaders)` instead. HINT: added 's'\n",
      "  \"`trainer.fit(train_dataloader)` is deprecated in v1.4 and will be removed in v1.6.\"\n",
      "LOCAL_RANK: 0 - CUDA_VISIBLE_DEVICES: [0]\n",
      "\n",
      "  | Name | Type               | Params\n",
      "--------------------------------------------\n",
      "0 | bert | BertClassification | 110 M \n",
      "--------------------------------------------\n",
      "7.1 M     Trainable params\n",
      "103 M     Non-trainable params\n",
      "110 M     Total params\n",
      "442.497   Total estimated model params size (MB)\n"
     ]
    },
    {
     "output_type": "display_data",
     "data": {
      "application/vnd.jupyter.widget-view+json": {
       "version_major": 2,
       "version_minor": 0,
       "model_id": "80614176df2a4d8d8ae1f9387c57574d"
      },
      "text/plain": [
       "Validation sanity check: 0it [00:00, ?it/s]"
      ]
     },
     "metadata": {}
    },
    {
     "output_type": "stream",
     "name": "stderr",
     "text": [
      "/anaconda/envs/bert_finetune_local/lib/python3.6/site-packages/pytorch_lightning/trainer/data_loading.py:377: UserWarning: Your val_dataloader has `shuffle=True`, it is best practice to turn this off for val/test/predict dataloaders.\n",
      "  f\"Your {mode}_dataloader has `shuffle=True`, it is best practice to turn\"\n",
      "/anaconda/envs/bert_finetune_local/lib/python3.6/site-packages/pytorch_lightning/trainer/data_loading.py:106: UserWarning: The dataloader, val dataloader 0, does not have many workers which may be a bottleneck. Consider increasing the value of the `num_workers` argument` (try 8 which is the number of cpus on this machine) in the `DataLoader` init to improve performance.\n",
      "  f\"The dataloader, {name}, does not have many workers which may be a bottleneck.\"\n",
      "Global seed set to 1234\n",
      "/anaconda/envs/bert_finetune_local/lib/python3.6/site-packages/pytorch_lightning/trainer/data_loading.py:106: UserWarning: The dataloader, train dataloader, does not have many workers which may be a bottleneck. Consider increasing the value of the `num_workers` argument` (try 8 which is the number of cpus on this machine) in the `DataLoader` init to improve performance.\n",
      "  f\"The dataloader, {name}, does not have many workers which may be a bottleneck.\"\n"
     ]
    },
    {
     "output_type": "display_data",
     "data": {
      "application/vnd.jupyter.widget-view+json": {
       "version_major": 2,
       "version_minor": 0,
       "model_id": "430abc63d3674ed58559de21b4563a97"
      },
      "text/plain": [
       "Training: -1it [00:00, ?it/s]"
      ]
     },
     "metadata": {}
    },
    {
     "output_type": "display_data",
     "data": {
      "application/vnd.jupyter.widget-view+json": {
       "version_major": 2,
       "version_minor": 0,
       "model_id": "dd3171cfad284bfeba8ac7f7d92064da"
      },
      "text/plain": [
       "Validating: 0it [00:00, ?it/s]"
      ]
     },
     "metadata": {}
    },
    {
     "output_type": "display_data",
     "data": {
      "application/vnd.jupyter.widget-view+json": {
       "version_major": 2,
       "version_minor": 0,
       "model_id": "bcc999d271224f429f19bc82e6acfaa3"
      },
      "text/plain": [
       "Validating: 0it [00:00, ?it/s]"
      ]
     },
     "metadata": {}
    },
    {
     "output_type": "display_data",
     "data": {
      "application/vnd.jupyter.widget-view+json": {
       "version_major": 2,
       "version_minor": 0,
       "model_id": "97b315a5eca14e719e04d00d80399a5d"
      },
      "text/plain": [
       "Validating: 0it [00:00, ?it/s]"
      ]
     },
     "metadata": {}
    },
    {
     "output_type": "display_data",
     "data": {
      "application/vnd.jupyter.widget-view+json": {
       "version_major": 2,
       "version_minor": 0,
       "model_id": "b5862bbcaa3a4c6b810981d4ddbb7828"
      },
      "text/plain": [
       "Validating: 0it [00:00, ?it/s]"
      ]
     },
     "metadata": {}
    },
    {
     "output_type": "display_data",
     "data": {
      "application/vnd.jupyter.widget-view+json": {
       "version_major": 2,
       "version_minor": 0,
       "model_id": "a21cac1101eb4b039fcc0220b24e10b0"
      },
      "text/plain": [
       "Validating: 0it [00:00, ?it/s]"
      ]
     },
     "metadata": {}
    }
   ],
   "metadata": {}
  },
  {
   "cell_type": "markdown",
   "source": [
    "## 4. モデル検証"
   ],
   "metadata": {}
  },
  {
   "cell_type": "code",
   "execution_count": 10,
   "source": [
    "# モデル検証\n",
    "result = trainer.test(model, test_dataloaders=test_loader)\n",
    "print(result)"
   ],
   "outputs": [
    {
     "output_type": "stream",
     "name": "stderr",
     "text": [
      "/anaconda/envs/bert_finetune_local/lib/python3.6/site-packages/pytorch_lightning/trainer/trainer.py:679: LightningDeprecationWarning: `trainer.test(test_dataloaders)` is deprecated in v1.4 and will be removed in v1.6. Use `trainer.test(dataloaders)` instead.\n",
      "  \"`trainer.test(test_dataloaders)` is deprecated in v1.4 and will be removed in v1.6.\"\n",
      "/anaconda/envs/bert_finetune_local/lib/python3.6/site-packages/pytorch_lightning/trainer/configuration_validator.py:99: UserWarning: you passed in a test_dataloader but have no test_step. Skipping test loop\n",
      "  rank_zero_warn(f\"you passed in a {loader_name} but have no {step_name}. Skipping {stage} loop\")\n",
      "LOCAL_RANK: 0 - CUDA_VISIBLE_DEVICES: [0]\n"
     ]
    },
    {
     "output_type": "stream",
     "name": "stdout",
     "text": [
      "[]\n"
     ]
    }
   ],
   "metadata": {}
  },
  {
   "cell_type": "code",
   "execution_count": 11,
   "source": [
    "# モデル保存\n",
    "trainer.save_checkpoint(\"./model/bert-livedoor.ckpt\")"
   ],
   "outputs": [],
   "metadata": {}
  },
  {
   "cell_type": "markdown",
   "source": [
    "###  Tensorboard の起動\n",
    "```bash\n",
    "tensorboard --logdir pl-model/lightning_logs\n",
    "```"
   ],
   "metadata": {}
  },
  {
   "cell_type": "code",
   "execution_count": null,
   "source": [],
   "outputs": [],
   "metadata": {}
  }
 ],
 "metadata": {
  "kernel_info": {
   "name": "python38-azureml"
  },
  "kernelspec": {
   "name": "python3",
   "display_name": "Python 3.6.13 64-bit ('bert_finetune_local': conda)"
  },
  "language_info": {
   "codemirror_mode": {
    "name": "ipython",
    "version": 3
   },
   "file_extension": ".py",
   "mimetype": "text/x-python",
   "name": "python",
   "nbconvert_exporter": "python",
   "pygments_lexer": "ipython3",
   "version": "3.6.13"
  },
  "microsoft": {
   "host": {
    "AzureML": {
     "notebookHasBeenCompleted": true
    }
   }
  },
  "nteract": {
   "version": "nteract-front-end@1.0.0"
  },
  "interpreter": {
   "hash": "cb548e6cc0dfcc93fff3180785f33996431c026a0645ee6605bd3f7e301d3c90"
  }
 },
 "nbformat": 4,
 "nbformat_minor": 4
}