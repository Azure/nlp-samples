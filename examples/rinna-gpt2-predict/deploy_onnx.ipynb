{
  "cells": [
    {
      "cell_type": "markdown",
      "source": [
        "# ONNX に変換したモデルを Kubernetes 上にデプロイ"
      ],
      "metadata": {}
    },
    {
      "cell_type": "code",
      "execution_count": null,
      "source": [
        "import os\n",
        "from azureml.core import Workspace\n",
        "from azureml.core.conda_dependencies import CondaDependencies \n",
        "from azureml.core.model import InferenceConfig\n",
        "from azureml.core.environment import Environment\n",
        "from azureml.core.webservice import AksWebservice\n",
        "from azureml.core.compute.aks import AksCompute \n",
        "from azureml.core.model import Model\n",
        "import random\n",
        "import numpy as np\n",
        "import torch\n",
        "import json\n",
        "import requests"
      ],
      "outputs": [],
      "metadata": {
        "gather": {
          "logged": 1621406695124
        }
      }
    },
    {
      "cell_type": "code",
      "execution_count": null,
      "source": [
        "ws = Workspace.from_config()\n",
        "ws"
      ],
      "outputs": [],
      "metadata": {
        "gather": {
          "logged": 1621406720950
        }
      }
    },
    {
      "cell_type": "code",
      "execution_count": null,
      "source": [
        "# 推論環境の定義ファイル生成と環境設定\n",
        "\n",
        "env_file_path = os.path.join(\"src\", \"environment.yml\")\n",
        "score_file_path = os.path.join(\"src\", \"score.py\")\n",
        "\n",
        "env = Environment.from_conda_specification(name=\"rinna-predict-env\", file_path=env_file_path)\n",
        "env.register(ws)\n",
        "inference_config = InferenceConfig(entry_script=score_file_path, environment=env)"
      ],
      "outputs": [],
      "metadata": {
        "gather": {
          "logged": 1621408230087
        }
      }
    },
    {
      "cell_type": "code",
      "execution_count": null,
      "source": [
        "# デプロイ設定\n",
        "deploy_config = AksWebservice.deploy_configuration(\n",
        "    cpu_cores = 1,\n",
        "    memory_gb = 4,\n",
        "    tags = {'framework': 'onnx'},\n",
        "    auth_enabled = False,\n",
        "    description = 'rinna gpt-2'\n",
        ")\n",
        "\n",
        "target_aks = AksCompute(ws, 'aml-cluster')"
      ],
      "outputs": [],
      "metadata": {
        "gather": {
          "logged": 1621408230259
        }
      }
    },
    {
      "cell_type": "code",
      "execution_count": null,
      "source": [
        "# モデル指定\n",
        "model = Model(ws, 'rinna-GPT2-quantized-model')"
      ],
      "outputs": [],
      "metadata": {
        "gather": {
          "logged": 1621408230919
        }
      }
    },
    {
      "cell_type": "code",
      "execution_count": null,
      "source": [
        "# デプロイ\n",
        "service_name = 'rinna-gpt2-aks'\n",
        "print(\"Service\", service_name)\n",
        "webservice = Model.deploy(ws, service_name, [model], inference_config, deploy_config, target_aks)\n",
        "webservice.wait_for_deployment(True)\n",
        "print(webservice.state)"
      ],
      "outputs": [],
      "metadata": {
        "gather": {
          "logged": 1621408534555
        }
      }
    },
    {
      "cell_type": "code",
      "execution_count": null,
      "source": [
        "# 推論\n",
        "endpoint = webservice.scoring_uri\n",
        "input_data = json.dumps({'data': \"機械学習\"})\n",
        "res = requests.post(url=endpoint, data=input_data, headers={'Content-Type': 'application/json'})\n",
        "res.json()"
      ],
      "outputs": [],
      "metadata": {
        "gather": {
          "logged": 1621480880573
        }
      }
    },
    {
      "cell_type": "code",
      "execution_count": null,
      "source": [],
      "outputs": [],
      "metadata": {}
    }
  ],
  "metadata": {
    "kernelspec": {
      "name": "python3",
      "display_name": "Python 3.8.11 64-bit ('rinna_gpt2_predict': conda)"
    },
    "language_info": {
      "name": "python",
      "version": "3.8.11",
      "mimetype": "text/x-python",
      "codemirror_mode": {
        "name": "ipython",
        "version": 3
      },
      "pygments_lexer": "ipython3",
      "nbconvert_exporter": "python",
      "file_extension": ".py"
    },
    "microsoft": {
      "host": {
        "AzureML": {
          "notebookHasBeenCompleted": true
        }
      }
    },
    "nteract": {
      "version": "nteract-front-end@1.0.0"
    },
    "kernel_info": {
      "name": "python38-azureml"
    },
    "interpreter": {
      "hash": "1c4e185c907ad5151dcc0af21cbfea2685912d9386b07f96d5d5cb8de28dfd03"
    }
  },
  "nbformat": 4,
  "nbformat_minor": 4
}