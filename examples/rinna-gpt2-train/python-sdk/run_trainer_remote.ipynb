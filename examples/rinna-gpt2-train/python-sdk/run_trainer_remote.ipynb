{
 "cells": [
  {
   "cell_type": "markdown",
   "source": [
    "# rinna GPT-2 モデルの Fine Tuning\n",
    "HuggingFace の transformers ライブラリを用いて [rinna gpt-2](https://huggingface.co/rinna/japanese-gpt2-medium) モデルの Fine Tuning を行います。"
   ],
   "metadata": {}
  },
  {
   "cell_type": "markdown",
   "source": [
    "## 事前準備\n",
    "必要なライブラリをインポートします。"
   ],
   "metadata": {}
  },
  {
   "cell_type": "code",
   "execution_count": 1,
   "source": [
    "from azureml.core import Experiment, Workspace, Environment\n",
    "from azureml.core.compute import ComputeTarget\n",
    "from azureml.core import ScriptRunConfig\n",
    "from azureml.core.runconfig import PyTorchConfiguration\n",
    "\n",
    "import os\n",
    "os.makedirs('src', exist_ok=True)"
   ],
   "outputs": [],
   "metadata": {}
  },
  {
   "cell_type": "markdown",
   "source": [
    "Azure ML Workspace へ接続します。"
   ],
   "metadata": {}
  },
  {
   "cell_type": "code",
   "execution_count": 2,
   "source": [
    "ws = Workspace.from_config()"
   ],
   "outputs": [],
   "metadata": {}
  },
  {
   "cell_type": "markdown",
   "source": [
    "実験 Experiment の名称"
   ],
   "metadata": {}
  },
  {
   "cell_type": "code",
   "execution_count": 3,
   "source": [
    "model_experiment = Experiment(ws, name=\"rinna-gpt2-exp\")"
   ],
   "outputs": [],
   "metadata": {}
  },
  {
   "cell_type": "markdown",
   "source": [
    "PyTorch の設定"
   ],
   "metadata": {}
  },
  {
   "cell_type": "code",
   "execution_count": 4,
   "source": [
    "distr_config = PyTorchConfiguration()"
   ],
   "outputs": [],
   "metadata": {}
  },
  {
   "cell_type": "markdown",
   "source": [
    "環境 Environment の設定"
   ],
   "metadata": {}
  },
  {
   "cell_type": "code",
   "execution_count": 5,
   "source": [
    "hf_ort_env = Environment.from_dockerfile(name='rinna-docker-env', dockerfile='Dockerfile')\n",
    "#hf_ort_env.build(ws)"
   ],
   "outputs": [],
   "metadata": {}
  },
  {
   "cell_type": "markdown",
   "source": [
    "スクリプトの引数の定義"
   ],
   "metadata": {}
  },
  {
   "cell_type": "code",
   "execution_count": 6,
   "source": [
    "script_params = ['--num_train_epochs', 1,'--output_dir', './outputs', '--model_name_or_path', 'rinna/japanese-gpt2-medium']"
   ],
   "outputs": [],
   "metadata": {}
  },
  {
   "cell_type": "markdown",
   "source": [
    "## モデル学習\n",
    "`ScriptRunConfig` を用いて Azure Machine Learning Compute Cluster 上で学習ができるように設定します。"
   ],
   "metadata": {}
  },
  {
   "cell_type": "code",
   "execution_count": null,
   "source": [
    "model_run_config = ScriptRunConfig(\n",
    "    source_directory='./src',\n",
    "    script='./train.py',\n",
    "    arguments=script_params,\n",
    "    compute_target=ComputeTarget(workspace=ws, name=\"gpuinstance\"),\n",
    "    environment=hf_ort_env,\n",
    "    distributed_job_config=distr_config)"
   ],
   "outputs": [],
   "metadata": {}
  },
  {
   "cell_type": "markdown",
   "source": [
    "モデル学習の開始"
   ],
   "metadata": {}
  },
  {
   "cell_type": "code",
   "execution_count": null,
   "source": [
    "run = model_experiment.submit(model_run_config)\n",
    "run"
   ],
   "outputs": [
    {
     "output_type": "execute_result",
     "data": {
      "text/plain": [
       "Run(Experiment: rinna-gpt2-exp,\n",
       "Id: rinna-gpt2-exp_1628239017_d4034abd,\n",
       "Type: azureml.scriptrun,\n",
       "Status: Preparing)"
      ],
      "text/html": [
       "<table style=\"width:100%\"><tr><th>Experiment</th><th>Id</th><th>Type</th><th>Status</th><th>Details Page</th><th>Docs Page</th></tr><tr><td>rinna-gpt2-exp</td><td>rinna-gpt2-exp_1628239017_d4034abd</td><td>azureml.scriptrun</td><td>Preparing</td><td><a href=\"https://ml.azure.com/runs/rinna-gpt2-exp_1628239017_d4034abd?wsid=/subscriptions/82a5d8d3-5322-4c49-b9d6-da6e00be5d57/resourcegroups/mlops/workspaces/azureml-mlops&amp;tid=72f988bf-86f1-41af-91ab-2d7cd011db47\" target=\"_blank\" rel=\"noopener\">Link to Azure Machine Learning studio</a></td><td><a href=\"https://docs.microsoft.com/en-us/python/api/azureml-core/azureml.core.script_run.ScriptRun?view=azure-ml-py\" target=\"_blank\" rel=\"noopener\">Link to Documentation</a></td></tr></table>"
      ]
     },
     "metadata": {},
     "execution_count": 104
    }
   ],
   "metadata": {}
  },
  {
   "cell_type": "code",
   "execution_count": 105,
   "source": [
    "#run.wait_for_completion(show_output=False)"
   ],
   "outputs": [],
   "metadata": {}
  }
 ],
 "metadata": {
  "orig_nbformat": 4,
  "language_info": {
   "name": "python",
   "version": "3.6.9",
   "mimetype": "text/x-python",
   "codemirror_mode": {
    "name": "ipython",
    "version": 3
   },
   "pygments_lexer": "ipython3",
   "nbconvert_exporter": "python",
   "file_extension": ".py"
  },
  "kernelspec": {
   "name": "python3",
   "display_name": "Python 3.6.9 64-bit ('azureml_py36': conda)"
  },
  "interpreter": {
   "hash": "0b23af0ce16aa97b5d48acae7fae86d8f282aae2868783ba0fe17672ed39eae2"
  }
 },
 "nbformat": 4,
 "nbformat_minor": 2
}