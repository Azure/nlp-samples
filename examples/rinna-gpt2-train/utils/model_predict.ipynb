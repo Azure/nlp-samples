{
 "cells": [
  {
   "cell_type": "markdown",
   "source": [
    "## モデルテスト\n",
    "ローカル環境でモデルの推論を行います。Run の outputs フォルダのモデルファイルをダウンロード & ロードして利用します。"
   ],
   "metadata": {}
  },
  {
   "cell_type": "code",
   "execution_count": null,
   "source": [
    "from azureml.core import Workspace\n",
    "ws = Workspace.from_config()"
   ],
   "outputs": [],
   "metadata": {}
  },
  {
   "cell_type": "code",
   "execution_count": null,
   "source": [
    "# パラメータ\n",
    "RUN_ID = \"\""
   ],
   "outputs": [],
   "metadata": {}
  },
  {
   "cell_type": "code",
   "execution_count": null,
   "source": [
    "run_test = ws.get_run(RUN_ID)\n",
    "run_test.run.download_files(prefix='outputs/models/', output_directory='./')"
   ],
   "outputs": [],
   "metadata": {}
  },
  {
   "cell_type": "code",
   "execution_count": null,
   "source": [
    "from transformers import T5Tokenizer, AutoModelForCausalLM\n",
    "\n",
    "tokenizer = T5Tokenizer.from_pretrained(\"outputs/models/\", do_lower_case=True)\n",
    "model = AutoModelForCausalLM.from_pretrained(\"outputs/models/\")"
   ],
   "outputs": [],
   "metadata": {}
  },
  {
   "cell_type": "code",
   "execution_count": null,
   "source": [
    "input = tokenizer.encode(\"こんにちは、\", return_tensors=\"pt\")\n",
    "output = model.generate(input, do_sample=True, max_length=100, num_return_sequences=10)\n",
    "print(tokenizer.batch_decode(output))\n"
   ],
   "outputs": [],
   "metadata": {}
  }
 ],
 "metadata": {
  "orig_nbformat": 4,
  "language_info": {
   "name": "python",
   "version": "3.8.10",
   "mimetype": "text/x-python",
   "codemirror_mode": {
    "name": "ipython",
    "version": 3
   },
   "pygments_lexer": "ipython3",
   "nbconvert_exporter": "python",
   "file_extension": ".py"
  },
  "kernelspec": {
   "name": "python3",
   "display_name": "Python 3.8.10 64-bit ('myenv2': conda)"
  },
  "interpreter": {
   "hash": "0b7bb4fe2a621c75a935a631fd0e8e494b6df764a0f220c6e803d106c2f831dc"
  }
 },
 "nbformat": 4,
 "nbformat_minor": 2
}